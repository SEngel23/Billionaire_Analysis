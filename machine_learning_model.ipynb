{
 "cells": [
  {
   "cell_type": "code",
   "execution_count": null,
   "id": "3f8a60af",
   "metadata": {},
   "outputs": [],
   "source": [
    "# Import dependencies\n",
    "import pandas as pd\n",
    "import matplotlib.pyplot as plt\n"
   ]
  },
  {
   "cell_type": "code",
   "execution_count": null,
   "id": "43658499",
   "metadata": {},
   "outputs": [],
   "source": [
    "# Create the feature matrix and the target vector\n",
    "features = [\"rank\", \"personName\", \"age\", \"category\", \"country\",\n",
    "          \"gender_F\", \"gender_M\"]\n",
    "\n",
    "target = [\"finalWorth\"]\n"
   ]
  },
  {
   "cell_type": "code",
   "execution_count": null,
   "id": "168c000f",
   "metadata": {},
   "outputs": [],
   "source": [
    "# Load the data\n",
    "df = pd.read_csv('../Billionaire_Analysis/Resources/cleaned_billionaire.csv')\n",
    "df.head()\n"
   ]
  },
  {
   "cell_type": "code",
   "execution_count": null,
   "id": "6284a20a",
   "metadata": {},
   "outputs": [],
   "source": [
    "# Create X and y variables\n",
    "# Create our features\n",
    "X = df.loc[:, features].copy()\n",
    "\n",
    "# Create our target\n",
    "## This calls the target variable from ln[2] \n",
    "## and will locate and copy all values within the \"finalWorth\" column\n",
    "y = df.loc[:, target].copy()\n"
   ]
  },
  {
   "cell_type": "code",
   "execution_count": null,
   "id": "e4530775",
   "metadata": {},
   "outputs": [],
   "source": [
    "# Split the data into training and testing sets\n",
    "from sklearn.model_selection import train_test_split\n",
    "X_train, X_test, y_train, y_test = train_test_split(X, y, test_size=0.2)\n"
   ]
  },
  {
   "cell_type": "code",
   "execution_count": null,
   "id": "bce36f94",
   "metadata": {},
   "outputs": [],
   "source": [
    "# Create a model object\n",
    "from sklearn.linear_model import LinearRegression\n",
    "model = LinearRegression()\n"
   ]
  },
  {
   "cell_type": "code",
   "execution_count": null,
   "id": "6f22346c",
   "metadata": {},
   "outputs": [],
   "source": [
    "# Fit the model\n",
    "model.fit(X_train, y_train)\n"
   ]
  },
  {
   "cell_type": "code",
   "execution_count": null,
   "id": "79aec77d",
   "metadata": {},
   "outputs": [],
   "source": [
    "# Predict with the model\n",
    "y_pred = model.predict(X_test)\n"
   ]
  },
  {
   "cell_type": "code",
   "execution_count": null,
   "id": "cac8852e",
   "metadata": {},
   "outputs": [],
   "source": [
    "# Prediction DataFrame\n",
    "pd.DataFrame({\"Prediction\": y_pred, \"Actual\": y_test})\n"
   ]
  },
  {
   "cell_type": "code",
   "execution_count": null,
   "id": "a15f7ff3",
   "metadata": {},
   "outputs": [],
   "source": [
    "# Plot the prediction\n",
    "plt.scatter(X_test, y_test)\n",
    "plt.plot(X_test, y_pred, color=\"green\")\n",
    "plt.show()\n"
   ]
  },
  {
   "cell_type": "code",
   "execution_count": null,
   "id": "d4972b26",
   "metadata": {},
   "outputs": [],
   "source": [
    "# Evaluate the model on the test data\n",
    "accuracy = model.score(X_test, y_test)\n",
    "print(\"Accuracy:\", accuracy)"
   ]
  }
 ],
 "metadata": {
  "kernelspec": {
   "display_name": "mlenv",
   "language": "python",
   "name": "mlenv"
  },
  "language_info": {
   "codemirror_mode": {
    "name": "ipython",
    "version": 3
   },
   "file_extension": ".py",
   "mimetype": "text/x-python",
   "name": "python",
   "nbconvert_exporter": "python",
   "pygments_lexer": "ipython3",
   "version": "3.7.13"
  }
 },
 "nbformat": 4,
 "nbformat_minor": 5
}
