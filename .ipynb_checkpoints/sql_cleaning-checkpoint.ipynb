{
 "cells": [
  {
   "cell_type": "code",
   "execution_count": 1,
   "id": "5678081a",
   "metadata": {},
   "outputs": [],
   "source": [
    "# import dependencies\n",
    "import pathlib as path\n",
    "import numpy as np\n",
    "import pandas as pd"
   ]
  },
  {
   "cell_type": "code",
   "execution_count": 2,
   "id": "57127a6e",
   "metadata": {},
   "outputs": [
    {
     "data": {
      "text/html": [
       "<div>\n",
       "<style scoped>\n",
       "    .dataframe tbody tr th:only-of-type {\n",
       "        vertical-align: middle;\n",
       "    }\n",
       "\n",
       "    .dataframe tbody tr th {\n",
       "        vertical-align: top;\n",
       "    }\n",
       "\n",
       "    .dataframe thead th {\n",
       "        text-align: right;\n",
       "    }\n",
       "</style>\n",
       "<table border=\"1\" class=\"dataframe\">\n",
       "  <thead>\n",
       "    <tr style=\"text-align: right;\">\n",
       "      <th></th>\n",
       "      <th>rank</th>\n",
       "      <th>personName</th>\n",
       "      <th>age</th>\n",
       "      <th>finalWorth</th>\n",
       "      <th>category</th>\n",
       "      <th>country</th>\n",
       "      <th>gender_F</th>\n",
       "      <th>gender_M</th>\n",
       "    </tr>\n",
       "  </thead>\n",
       "  <tbody>\n",
       "    <tr>\n",
       "      <th>0</th>\n",
       "      <td>1</td>\n",
       "      <td>Elon Musk</td>\n",
       "      <td>50</td>\n",
       "      <td>219000</td>\n",
       "      <td>16</td>\n",
       "      <td>26</td>\n",
       "      <td>0</td>\n",
       "      <td>1</td>\n",
       "    </tr>\n",
       "    <tr>\n",
       "      <th>1</th>\n",
       "      <td>2</td>\n",
       "      <td>Jeff Bezos</td>\n",
       "      <td>58</td>\n",
       "      <td>171000</td>\n",
       "      <td>11</td>\n",
       "      <td>26</td>\n",
       "      <td>0</td>\n",
       "      <td>1</td>\n",
       "    </tr>\n",
       "    <tr>\n",
       "      <th>2</th>\n",
       "      <td>3</td>\n",
       "      <td>Bernard Arnault &amp; family</td>\n",
       "      <td>73</td>\n",
       "      <td>158000</td>\n",
       "      <td>17</td>\n",
       "      <td>40</td>\n",
       "      <td>0</td>\n",
       "      <td>1</td>\n",
       "    </tr>\n",
       "    <tr>\n",
       "      <th>3</th>\n",
       "      <td>4</td>\n",
       "      <td>Bill Gates</td>\n",
       "      <td>66</td>\n",
       "      <td>129000</td>\n",
       "      <td>11</td>\n",
       "      <td>26</td>\n",
       "      <td>0</td>\n",
       "      <td>1</td>\n",
       "    </tr>\n",
       "    <tr>\n",
       "      <th>4</th>\n",
       "      <td>5</td>\n",
       "      <td>Warren Buffett</td>\n",
       "      <td>91</td>\n",
       "      <td>118000</td>\n",
       "      <td>14</td>\n",
       "      <td>26</td>\n",
       "      <td>0</td>\n",
       "      <td>1</td>\n",
       "    </tr>\n",
       "  </tbody>\n",
       "</table>\n",
       "</div>"
      ],
      "text/plain": [
       "   rank                personName  age  finalWorth  category  country  \\\n",
       "0     1                 Elon Musk   50      219000        16       26   \n",
       "1     2                Jeff Bezos   58      171000        11       26   \n",
       "2     3  Bernard Arnault & family   73      158000        17       40   \n",
       "3     4                Bill Gates   66      129000        11       26   \n",
       "4     5            Warren Buffett   91      118000        14       26   \n",
       "\n",
       "   gender_F  gender_M  \n",
       "0         0         1  \n",
       "1         0         1  \n",
       "2         0         1  \n",
       "3         0         1  \n",
       "4         0         1  "
      ]
     },
     "execution_count": 2,
     "metadata": {},
     "output_type": "execute_result"
    }
   ],
   "source": [
    "# 2022 csv into dataframe\n",
    "df_2022 = pd.read_csv(\"Resources/cleaned_billionaire.csv\")\n",
    "df_2022.head()"
   ]
  },
  {
   "cell_type": "code",
   "execution_count": 3,
   "id": "3be19279",
   "metadata": {},
   "outputs": [
    {
     "data": {
      "text/html": [
       "<div>\n",
       "<style scoped>\n",
       "    .dataframe tbody tr th:only-of-type {\n",
       "        vertical-align: middle;\n",
       "    }\n",
       "\n",
       "    .dataframe tbody tr th {\n",
       "        vertical-align: top;\n",
       "    }\n",
       "\n",
       "    .dataframe thead th {\n",
       "        text-align: right;\n",
       "    }\n",
       "</style>\n",
       "<table border=\"1\" class=\"dataframe\">\n",
       "  <thead>\n",
       "    <tr style=\"text-align: right;\">\n",
       "      <th></th>\n",
       "      <th>rank</th>\n",
       "      <th>personName</th>\n",
       "      <th>age</th>\n",
       "      <th>finalWorth</th>\n",
       "      <th>category</th>\n",
       "      <th>country</th>\n",
       "      <th>gender_F</th>\n",
       "      <th>gender_M</th>\n",
       "    </tr>\n",
       "  </thead>\n",
       "  <tbody>\n",
       "    <tr>\n",
       "      <th>0</th>\n",
       "      <td>1</td>\n",
       "      <td>Jeff Bezos</td>\n",
       "      <td>54</td>\n",
       "      <td>112000</td>\n",
       "      <td>8</td>\n",
       "      <td>20</td>\n",
       "      <td>0</td>\n",
       "      <td>1</td>\n",
       "    </tr>\n",
       "    <tr>\n",
       "      <th>1</th>\n",
       "      <td>2</td>\n",
       "      <td>Bill Gates</td>\n",
       "      <td>62</td>\n",
       "      <td>90000</td>\n",
       "      <td>8</td>\n",
       "      <td>20</td>\n",
       "      <td>0</td>\n",
       "      <td>1</td>\n",
       "    </tr>\n",
       "    <tr>\n",
       "      <th>2</th>\n",
       "      <td>3</td>\n",
       "      <td>Warren Buffett</td>\n",
       "      <td>87</td>\n",
       "      <td>84000</td>\n",
       "      <td>10</td>\n",
       "      <td>20</td>\n",
       "      <td>0</td>\n",
       "      <td>1</td>\n",
       "    </tr>\n",
       "    <tr>\n",
       "      <th>3</th>\n",
       "      <td>4</td>\n",
       "      <td>Bernard Arnault</td>\n",
       "      <td>69</td>\n",
       "      <td>72000</td>\n",
       "      <td>17</td>\n",
       "      <td>36</td>\n",
       "      <td>0</td>\n",
       "      <td>1</td>\n",
       "    </tr>\n",
       "    <tr>\n",
       "      <th>4</th>\n",
       "      <td>5</td>\n",
       "      <td>Mark Zuckerberg</td>\n",
       "      <td>33</td>\n",
       "      <td>71000</td>\n",
       "      <td>8</td>\n",
       "      <td>20</td>\n",
       "      <td>0</td>\n",
       "      <td>1</td>\n",
       "    </tr>\n",
       "  </tbody>\n",
       "</table>\n",
       "</div>"
      ],
      "text/plain": [
       "   rank       personName  age  finalWorth  category  country  gender_F  \\\n",
       "0     1       Jeff Bezos   54      112000         8       20         0   \n",
       "1     2       Bill Gates   62       90000         8       20         0   \n",
       "2     3   Warren Buffett   87       84000        10       20         0   \n",
       "3     4  Bernard Arnault   69       72000        17       36         0   \n",
       "4     5  Mark Zuckerberg   33       71000         8       20         0   \n",
       "\n",
       "   gender_M  \n",
       "0         1  \n",
       "1         1  \n",
       "2         1  \n",
       "3         1  \n",
       "4         1  "
      ]
     },
     "execution_count": 3,
     "metadata": {},
     "output_type": "execute_result"
    }
   ],
   "source": [
    "# 2018 csv into dataframe\n",
    "df_2018 = pd.read_csv(\"Resources/cleaned_2018_billionaire.csv\")\n",
    "df_2018.head()"
   ]
  },
  {
   "cell_type": "code",
   "execution_count": 4,
   "id": "0b44154c",
   "metadata": {},
   "outputs": [
    {
     "data": {
      "text/plain": [
       "rank           int64\n",
       "personName    object\n",
       "age            int64\n",
       "finalWorth     int64\n",
       "category       int64\n",
       "country        int64\n",
       "gender_F       int64\n",
       "gender_M       int64\n",
       "dtype: object"
      ]
     },
     "execution_count": 4,
     "metadata": {},
     "output_type": "execute_result"
    }
   ],
   "source": [
    "df_2022.dtypes"
   ]
  },
  {
   "cell_type": "code",
   "execution_count": 5,
   "id": "796203a9",
   "metadata": {},
   "outputs": [
    {
     "data": {
      "text/plain": [
       "rank           int64\n",
       "personName    object\n",
       "age            int64\n",
       "finalWorth     int64\n",
       "category       int64\n",
       "country        int64\n",
       "gender_F       int64\n",
       "gender_M       int64\n",
       "dtype: object"
      ]
     },
     "execution_count": 5,
     "metadata": {},
     "output_type": "execute_result"
    }
   ],
   "source": [
    "df_2018.dtypes"
   ]
  },
  {
   "cell_type": "code",
   "execution_count": 6,
   "id": "8fade7d7",
   "metadata": {},
   "outputs": [
    {
     "data": {
      "text/plain": [
       "2"
      ]
     },
     "execution_count": 6,
     "metadata": {},
     "output_type": "execute_result"
    }
   ],
   "source": [
    "#find sum duplicated personName values in df_2022\n",
    "df_2022.personName.duplicated().sum()"
   ]
  },
  {
   "cell_type": "code",
   "execution_count": 7,
   "id": "d5d23877",
   "metadata": {},
   "outputs": [
    {
     "data": {
      "text/plain": [
       "2"
      ]
     },
     "execution_count": 7,
     "metadata": {},
     "output_type": "execute_result"
    }
   ],
   "source": [
    "#find sum duplicated personName values in df_2018\n",
    "df_2018.personName.duplicated().sum()"
   ]
  },
  {
   "cell_type": "code",
   "execution_count": 8,
   "id": "1dbc3a20",
   "metadata": {},
   "outputs": [
    {
     "data": {
      "text/html": [
       "<div>\n",
       "<style scoped>\n",
       "    .dataframe tbody tr th:only-of-type {\n",
       "        vertical-align: middle;\n",
       "    }\n",
       "\n",
       "    .dataframe tbody tr th {\n",
       "        vertical-align: top;\n",
       "    }\n",
       "\n",
       "    .dataframe thead th {\n",
       "        text-align: right;\n",
       "    }\n",
       "</style>\n",
       "<table border=\"1\" class=\"dataframe\">\n",
       "  <thead>\n",
       "    <tr style=\"text-align: right;\">\n",
       "      <th></th>\n",
       "      <th>rank</th>\n",
       "      <th>personName</th>\n",
       "      <th>age</th>\n",
       "      <th>finalWorth</th>\n",
       "      <th>category</th>\n",
       "      <th>country</th>\n",
       "      <th>gender_F</th>\n",
       "      <th>gender_M</th>\n",
       "    </tr>\n",
       "  </thead>\n",
       "  <tbody>\n",
       "    <tr>\n",
       "      <th>1147</th>\n",
       "      <td>1163</td>\n",
       "      <td>Li Li</td>\n",
       "      <td>56</td>\n",
       "      <td>2700</td>\n",
       "      <td>2</td>\n",
       "      <td>53</td>\n",
       "      <td>0</td>\n",
       "      <td>1</td>\n",
       "    </tr>\n",
       "    <tr>\n",
       "      <th>2060</th>\n",
       "      <td>2076</td>\n",
       "      <td>Li Li</td>\n",
       "      <td>58</td>\n",
       "      <td>1400</td>\n",
       "      <td>2</td>\n",
       "      <td>53</td>\n",
       "      <td>0</td>\n",
       "      <td>1</td>\n",
       "    </tr>\n",
       "    <tr>\n",
       "      <th>535</th>\n",
       "      <td>536</td>\n",
       "      <td>Wang Yanqing &amp; family</td>\n",
       "      <td>55</td>\n",
       "      <td>5100</td>\n",
       "      <td>1</td>\n",
       "      <td>53</td>\n",
       "      <td>0</td>\n",
       "      <td>1</td>\n",
       "    </tr>\n",
       "    <tr>\n",
       "      <th>1739</th>\n",
       "      <td>1729</td>\n",
       "      <td>Wang Yanqing &amp; family</td>\n",
       "      <td>75</td>\n",
       "      <td>1700</td>\n",
       "      <td>1</td>\n",
       "      <td>53</td>\n",
       "      <td>1</td>\n",
       "      <td>0</td>\n",
       "    </tr>\n",
       "  </tbody>\n",
       "</table>\n",
       "</div>"
      ],
      "text/plain": [
       "      rank             personName  age  finalWorth  category  country  \\\n",
       "1147  1163                  Li Li   56        2700         2       53   \n",
       "2060  2076                  Li Li   58        1400         2       53   \n",
       "535    536  Wang Yanqing & family   55        5100         1       53   \n",
       "1739  1729  Wang Yanqing & family   75        1700         1       53   \n",
       "\n",
       "      gender_F  gender_M  \n",
       "1147         0         1  \n",
       "2060         0         1  \n",
       "535          0         1  \n",
       "1739         1         0  "
      ]
     },
     "execution_count": 8,
     "metadata": {},
     "output_type": "execute_result"
    }
   ],
   "source": [
    "# Get list of duplicate rows based on 'personName' column for df_2022\n",
    "# Using sort values\n",
    "duplicate2022 = df_2022[df_2022.personName.duplicated(keep=False)].sort_values(\"personName\")\n",
    "duplicate2022\n"
   ]
  },
  {
   "cell_type": "code",
   "execution_count": 9,
   "id": "fb510c65",
   "metadata": {},
   "outputs": [
    {
     "data": {
      "text/html": [
       "<div>\n",
       "<style scoped>\n",
       "    .dataframe tbody tr th:only-of-type {\n",
       "        vertical-align: middle;\n",
       "    }\n",
       "\n",
       "    .dataframe tbody tr th {\n",
       "        vertical-align: top;\n",
       "    }\n",
       "\n",
       "    .dataframe thead th {\n",
       "        text-align: right;\n",
       "    }\n",
       "</style>\n",
       "<table border=\"1\" class=\"dataframe\">\n",
       "  <thead>\n",
       "    <tr style=\"text-align: right;\">\n",
       "      <th></th>\n",
       "      <th>rank</th>\n",
       "      <th>personName</th>\n",
       "      <th>age</th>\n",
       "      <th>finalWorth</th>\n",
       "      <th>category</th>\n",
       "      <th>country</th>\n",
       "      <th>gender_F</th>\n",
       "      <th>gender_M</th>\n",
       "    </tr>\n",
       "  </thead>\n",
       "  <tbody>\n",
       "    <tr>\n",
       "      <th>347</th>\n",
       "      <td>365</td>\n",
       "      <td>Jim Davis</td>\n",
       "      <td>74</td>\n",
       "      <td>5000</td>\n",
       "      <td>12</td>\n",
       "      <td>20</td>\n",
       "      <td>0</td>\n",
       "      <td>1</td>\n",
       "    </tr>\n",
       "    <tr>\n",
       "      <th>823</th>\n",
       "      <td>859</td>\n",
       "      <td>Jim Davis</td>\n",
       "      <td>57</td>\n",
       "      <td>2000</td>\n",
       "      <td>11</td>\n",
       "      <td>20</td>\n",
       "      <td>0</td>\n",
       "      <td>1</td>\n",
       "    </tr>\n",
       "    <tr>\n",
       "      <th>449</th>\n",
       "      <td>466</td>\n",
       "      <td>Robert Miller</td>\n",
       "      <td>84</td>\n",
       "      <td>4000</td>\n",
       "      <td>17</td>\n",
       "      <td>3</td>\n",
       "      <td>0</td>\n",
       "      <td>1</td>\n",
       "    </tr>\n",
       "    <tr>\n",
       "      <th>904</th>\n",
       "      <td>924</td>\n",
       "      <td>Robert Miller</td>\n",
       "      <td>72</td>\n",
       "      <td>2000</td>\n",
       "      <td>8</td>\n",
       "      <td>49</td>\n",
       "      <td>0</td>\n",
       "      <td>1</td>\n",
       "    </tr>\n",
       "  </tbody>\n",
       "</table>\n",
       "</div>"
      ],
      "text/plain": [
       "     rank     personName  age  finalWorth  category  country  gender_F  \\\n",
       "347   365      Jim Davis   74        5000        12       20         0   \n",
       "823   859      Jim Davis   57        2000        11       20         0   \n",
       "449   466  Robert Miller   84        4000        17        3         0   \n",
       "904   924  Robert Miller   72        2000         8       49         0   \n",
       "\n",
       "     gender_M  \n",
       "347         1  \n",
       "823         1  \n",
       "449         1  \n",
       "904         1  "
      ]
     },
     "execution_count": 9,
     "metadata": {},
     "output_type": "execute_result"
    }
   ],
   "source": [
    "# Get list of duplicate rows based on 'personName' column for df_2018\n",
    "# Using sort values\n",
    "duplicate2018 = df_2018[df_2018.personName.duplicated(keep=False)].sort_values(\"personName\")\n",
    "duplicate2018"
   ]
  },
  {
   "cell_type": "code",
   "execution_count": 10,
   "id": "e99fe84c",
   "metadata": {},
   "outputs": [
    {
     "data": {
      "text/plain": [
       "'Li Li'"
      ]
     },
     "execution_count": 10,
     "metadata": {},
     "output_type": "execute_result"
    }
   ],
   "source": [
    "#pull value of row 1147 personName in df_2022\n",
    "df_2022.at[1147,'personName']"
   ]
  },
  {
   "cell_type": "code",
   "execution_count": 11,
   "id": "a0e3f7ff",
   "metadata": {},
   "outputs": [
    {
     "data": {
      "text/plain": [
       "'Li Li (Shenzhen Hepalink Pharmaceutical)'"
      ]
     },
     "execution_count": 11,
     "metadata": {},
     "output_type": "execute_result"
    }
   ],
   "source": [
    "# update cell value with new personName\n",
    "# Row 1147 for df_2022\n",
    "\n",
    "df_2022.at[1147,'personName']= 'Li Li (Shenzhen Hepalink Pharmaceutical)'\n",
    "\n",
    "df_2022.at[1147,'personName']"
   ]
  },
  {
   "cell_type": "code",
   "execution_count": 12,
   "id": "f71b0644",
   "metadata": {},
   "outputs": [
    {
     "data": {
      "text/plain": [
       "'Li Li'"
      ]
     },
     "execution_count": 12,
     "metadata": {},
     "output_type": "execute_result"
    }
   ],
   "source": [
    "#pull value of row 2060 personName in df_2022\n",
    "df_2022.at[2060,'personName']"
   ]
  },
  {
   "cell_type": "code",
   "execution_count": 13,
   "id": "fd0e4a56",
   "metadata": {},
   "outputs": [
    {
     "data": {
      "text/plain": [
       "'Li Li (Aier Eye Hospital Group)'"
      ]
     },
     "execution_count": 13,
     "metadata": {},
     "output_type": "execute_result"
    }
   ],
   "source": [
    "# update cell value with new personName\n",
    "# Row 1147 for df_2022\n",
    "\n",
    "df_2022.at[2060,'personName']= 'Li Li (Aier Eye Hospital Group)'\n",
    "\n",
    "df_2022.at[2060,'personName']"
   ]
  },
  {
   "cell_type": "code",
   "execution_count": 14,
   "id": "d0df3401",
   "metadata": {},
   "outputs": [
    {
     "data": {
      "text/plain": [
       "'Wang Yanqing & family'"
      ]
     },
     "execution_count": 14,
     "metadata": {},
     "output_type": "execute_result"
    }
   ],
   "source": [
    "#pull value of row 535 personName in df_2022\n",
    "df_2022.at[535,'personName']"
   ]
  },
  {
   "cell_type": "code",
   "execution_count": 15,
   "id": "c0988440",
   "metadata": {},
   "outputs": [
    {
     "data": {
      "text/plain": [
       "'Wang Yanquing (Wuxi Lead Intelligent Equipment)'"
      ]
     },
     "execution_count": 15,
     "metadata": {},
     "output_type": "execute_result"
    }
   ],
   "source": [
    "# update cell value with new personName\n",
    "# Row 535 for df_2022\n",
    "\n",
    "df_2022.at[535,'personName']= 'Wang Yanquing (Wuxi Lead Intelligent Equipment)'\n",
    "\n",
    "df_2022.at[535,'personName']"
   ]
  },
  {
   "cell_type": "code",
   "execution_count": 16,
   "id": "952524de",
   "metadata": {},
   "outputs": [
    {
     "data": {
      "text/plain": [
       "'Wang Yanqing & family'"
      ]
     },
     "execution_count": 16,
     "metadata": {},
     "output_type": "execute_result"
    }
   ],
   "source": [
    "#pull value of row 1739 personName in df_2022\n",
    "df_2022.at[1739,'personName']"
   ]
  },
  {
   "cell_type": "code",
   "execution_count": 17,
   "id": "019e3dc0",
   "metadata": {},
   "outputs": [
    {
     "data": {
      "text/plain": [
       "'Wang Yanquing (Weihai Guangwei Group)'"
      ]
     },
     "execution_count": 17,
     "metadata": {},
     "output_type": "execute_result"
    }
   ],
   "source": [
    "# update cell value with new personName\n",
    "# Row 1739 for df_2022\n",
    "\n",
    "df_2022.at[1739,'personName']= 'Wang Yanquing (Weihai Guangwei Group)'\n",
    "\n",
    "df_2022.at[1739,'personName']"
   ]
  },
  {
   "cell_type": "code",
   "execution_count": 18,
   "id": "3e987219",
   "metadata": {},
   "outputs": [
    {
     "data": {
      "text/plain": [
       "'Jim Davis'"
      ]
     },
     "execution_count": 18,
     "metadata": {},
     "output_type": "execute_result"
    }
   ],
   "source": [
    "#pull value of row 347 personName in df_2018\n",
    "df_2018.at[347,'personName']"
   ]
  },
  {
   "cell_type": "code",
   "execution_count": 19,
   "id": "f3fe489f",
   "metadata": {},
   "outputs": [
    {
     "data": {
      "text/plain": [
       "'Jim Davis & Family'"
      ]
     },
     "execution_count": 19,
     "metadata": {},
     "output_type": "execute_result"
    }
   ],
   "source": [
    "# update cell value with new personName\n",
    "# Row 347 for df_2018\n",
    "\n",
    "df_2018.at[347,'personName']= 'Jim Davis & Family'\n",
    "\n",
    "df_2018.at[347,'personName']"
   ]
  },
  {
   "cell_type": "code",
   "execution_count": 20,
   "id": "7221a1fd",
   "metadata": {},
   "outputs": [
    {
     "data": {
      "text/plain": [
       "'Jim Davis'"
      ]
     },
     "execution_count": 20,
     "metadata": {},
     "output_type": "execute_result"
    }
   ],
   "source": [
    "#pull value of row 823 personName in df_2018\n",
    "df_2018.at[823,'personName']"
   ]
  },
  {
   "cell_type": "code",
   "execution_count": 21,
   "id": "98c1b504",
   "metadata": {},
   "outputs": [],
   "source": [
    "# no change to personName for row 83 of df_2018"
   ]
  },
  {
   "cell_type": "code",
   "execution_count": 22,
   "id": "461ffbde",
   "metadata": {},
   "outputs": [
    {
     "data": {
      "text/plain": [
       "'Robert Miller'"
      ]
     },
     "execution_count": 22,
     "metadata": {},
     "output_type": "execute_result"
    }
   ],
   "source": [
    "#pull value of row 449 personName in df_2018\n",
    "df_2018.at[449,'personName']"
   ]
  },
  {
   "cell_type": "code",
   "execution_count": 23,
   "id": "727fc9bf",
   "metadata": {},
   "outputs": [],
   "source": [
    "# no change to personName for row 449 of df_2018"
   ]
  },
  {
   "cell_type": "code",
   "execution_count": 24,
   "id": "8c9671fd",
   "metadata": {},
   "outputs": [
    {
     "data": {
      "text/plain": [
       "'Robert Miller'"
      ]
     },
     "execution_count": 24,
     "metadata": {},
     "output_type": "execute_result"
    }
   ],
   "source": [
    "#pull value of row 904 personName in df_2018\n",
    "df_2018.at[904,'personName']"
   ]
  },
  {
   "cell_type": "code",
   "execution_count": 25,
   "id": "b3d9eb2c",
   "metadata": {},
   "outputs": [
    {
     "data": {
      "text/plain": [
       "'Robert G. Miller'"
      ]
     },
     "execution_count": 25,
     "metadata": {},
     "output_type": "execute_result"
    }
   ],
   "source": [
    "# update cell value with new personName\n",
    "# Row 904 for df_2018\n",
    "\n",
    "df_2018.at[904,'personName']= 'Robert G. Miller'\n",
    "\n",
    "df_2018.at[904,'personName']"
   ]
  },
  {
   "cell_type": "code",
   "execution_count": 28,
   "id": "4e9acc2c",
   "metadata": {},
   "outputs": [
    {
     "data": {
      "text/html": [
       "<div>\n",
       "<style scoped>\n",
       "    .dataframe tbody tr th:only-of-type {\n",
       "        vertical-align: middle;\n",
       "    }\n",
       "\n",
       "    .dataframe tbody tr th {\n",
       "        vertical-align: top;\n",
       "    }\n",
       "\n",
       "    .dataframe thead th {\n",
       "        text-align: right;\n",
       "    }\n",
       "</style>\n",
       "<table border=\"1\" class=\"dataframe\">\n",
       "  <thead>\n",
       "    <tr style=\"text-align: right;\">\n",
       "      <th></th>\n",
       "      <th>rank</th>\n",
       "      <th>personName</th>\n",
       "      <th>age</th>\n",
       "      <th>finalWorth</th>\n",
       "      <th>category</th>\n",
       "      <th>country</th>\n",
       "      <th>gender_F</th>\n",
       "      <th>gender_M</th>\n",
       "    </tr>\n",
       "  </thead>\n",
       "  <tbody>\n",
       "  </tbody>\n",
       "</table>\n",
       "</div>"
      ],
      "text/plain": [
       "Empty DataFrame\n",
       "Columns: [rank, personName, age, finalWorth, category, country, gender_F, gender_M]\n",
       "Index: []"
      ]
     },
     "execution_count": 28,
     "metadata": {},
     "output_type": "execute_result"
    }
   ],
   "source": [
    "# Get list of duplicate rows based on 'personName' column for df_2022\n",
    "# check to see if duplicates no longer exist\n",
    "duplicate2022_2 = df_2022[df_2022.personName.duplicated(keep=False)].sort_values(\"personName\")\n",
    "duplicate2022_2"
   ]
  },
  {
   "cell_type": "code",
   "execution_count": 29,
   "id": "f2ac48ba",
   "metadata": {},
   "outputs": [
    {
     "data": {
      "text/html": [
       "<div>\n",
       "<style scoped>\n",
       "    .dataframe tbody tr th:only-of-type {\n",
       "        vertical-align: middle;\n",
       "    }\n",
       "\n",
       "    .dataframe tbody tr th {\n",
       "        vertical-align: top;\n",
       "    }\n",
       "\n",
       "    .dataframe thead th {\n",
       "        text-align: right;\n",
       "    }\n",
       "</style>\n",
       "<table border=\"1\" class=\"dataframe\">\n",
       "  <thead>\n",
       "    <tr style=\"text-align: right;\">\n",
       "      <th></th>\n",
       "      <th>rank</th>\n",
       "      <th>personName</th>\n",
       "      <th>age</th>\n",
       "      <th>finalWorth</th>\n",
       "      <th>category</th>\n",
       "      <th>country</th>\n",
       "      <th>gender_F</th>\n",
       "      <th>gender_M</th>\n",
       "    </tr>\n",
       "  </thead>\n",
       "  <tbody>\n",
       "  </tbody>\n",
       "</table>\n",
       "</div>"
      ],
      "text/plain": [
       "Empty DataFrame\n",
       "Columns: [rank, personName, age, finalWorth, category, country, gender_F, gender_M]\n",
       "Index: []"
      ]
     },
     "execution_count": 29,
     "metadata": {},
     "output_type": "execute_result"
    }
   ],
   "source": [
    "# Get list of duplicate rows based on 'personName' column for df_2018\n",
    "# check to see if duplicates no longer exist\n",
    "duplicate2018_2 = df_2018[df_2018.personName.duplicated(keep=False)].sort_values(\"personName\")\n",
    "duplicate2018_2"
   ]
  },
  {
   "cell_type": "code",
   "execution_count": 30,
   "id": "709cb847",
   "metadata": {},
   "outputs": [],
   "source": [
    "#create new csv files specifically for SQL\n",
    "\n",
    "file_path = \"Resources/sql_cleaned_2022_billionaire.csv\"\n",
    "df_2022.to_csv(file_path, index=False)"
   ]
  },
  {
   "cell_type": "code",
   "execution_count": 31,
   "id": "b42a8823",
   "metadata": {},
   "outputs": [],
   "source": [
    "file_path = \"Resources/sql_cleaned_2018_billionaire.csv\"\n",
    "df_2018.to_csv(file_path, index=False)"
   ]
  }
 ],
 "metadata": {
  "kernelspec": {
   "display_name": "mlenv",
   "language": "python",
   "name": "mlenv"
  },
  "language_info": {
   "codemirror_mode": {
    "name": "ipython",
    "version": 3
   },
   "file_extension": ".py",
   "mimetype": "text/x-python",
   "name": "python",
   "nbconvert_exporter": "python",
   "pygments_lexer": "ipython3",
   "version": "3.7.15"
  }
 },
 "nbformat": 4,
 "nbformat_minor": 5
}
