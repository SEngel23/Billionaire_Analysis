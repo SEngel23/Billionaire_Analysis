{
 "cells": [
  {
   "cell_type": "code",
   "execution_count": 1,
   "id": "82fe9477",
   "metadata": {},
   "outputs": [],
   "source": [
    "# import dependencies\n",
    "import pathlib as path\n",
    "import numpy as np\n",
    "import pandas as pd"
   ]
  },
  {
   "cell_type": "code",
   "execution_count": 2,
   "id": "91b3ef77",
   "metadata": {},
   "outputs": [
    {
     "data": {
      "text/html": [
       "<div>\n",
       "<style scoped>\n",
       "    .dataframe tbody tr th:only-of-type {\n",
       "        vertical-align: middle;\n",
       "    }\n",
       "\n",
       "    .dataframe tbody tr th {\n",
       "        vertical-align: top;\n",
       "    }\n",
       "\n",
       "    .dataframe thead th {\n",
       "        text-align: right;\n",
       "    }\n",
       "</style>\n",
       "<table border=\"1\" class=\"dataframe\">\n",
       "  <thead>\n",
       "    <tr style=\"text-align: right;\">\n",
       "      <th></th>\n",
       "      <th>rank</th>\n",
       "      <th>personName</th>\n",
       "      <th>age</th>\n",
       "      <th>finalWorth</th>\n",
       "      <th>category</th>\n",
       "      <th>country</th>\n",
       "      <th>selfMade</th>\n",
       "      <th>gender</th>\n",
       "    </tr>\n",
       "  </thead>\n",
       "  <tbody>\n",
       "    <tr>\n",
       "      <th>0</th>\n",
       "      <td>1</td>\n",
       "      <td>Elon Musk</td>\n",
       "      <td>50.0</td>\n",
       "      <td>219000</td>\n",
       "      <td>Automotive</td>\n",
       "      <td>United States</td>\n",
       "      <td>True</td>\n",
       "      <td>M</td>\n",
       "    </tr>\n",
       "    <tr>\n",
       "      <th>1</th>\n",
       "      <td>2</td>\n",
       "      <td>Jeff Bezos</td>\n",
       "      <td>58.0</td>\n",
       "      <td>171000</td>\n",
       "      <td>Technology</td>\n",
       "      <td>United States</td>\n",
       "      <td>True</td>\n",
       "      <td>M</td>\n",
       "    </tr>\n",
       "    <tr>\n",
       "      <th>2</th>\n",
       "      <td>3</td>\n",
       "      <td>Bernard Arnault &amp; family</td>\n",
       "      <td>73.0</td>\n",
       "      <td>158000</td>\n",
       "      <td>Fashion &amp; Retail</td>\n",
       "      <td>France</td>\n",
       "      <td>False</td>\n",
       "      <td>M</td>\n",
       "    </tr>\n",
       "    <tr>\n",
       "      <th>3</th>\n",
       "      <td>4</td>\n",
       "      <td>Bill Gates</td>\n",
       "      <td>66.0</td>\n",
       "      <td>129000</td>\n",
       "      <td>Technology</td>\n",
       "      <td>United States</td>\n",
       "      <td>True</td>\n",
       "      <td>M</td>\n",
       "    </tr>\n",
       "    <tr>\n",
       "      <th>4</th>\n",
       "      <td>5</td>\n",
       "      <td>Warren Buffett</td>\n",
       "      <td>91.0</td>\n",
       "      <td>118000</td>\n",
       "      <td>Finance &amp; Investments</td>\n",
       "      <td>United States</td>\n",
       "      <td>True</td>\n",
       "      <td>M</td>\n",
       "    </tr>\n",
       "  </tbody>\n",
       "</table>\n",
       "</div>"
      ],
      "text/plain": [
       "   rank                personName   age  finalWorth               category  \\\n",
       "0     1                 Elon Musk  50.0      219000             Automotive   \n",
       "1     2                Jeff Bezos  58.0      171000             Technology   \n",
       "2     3  Bernard Arnault & family  73.0      158000       Fashion & Retail   \n",
       "3     4                Bill Gates  66.0      129000             Technology   \n",
       "4     5            Warren Buffett  91.0      118000  Finance & Investments   \n",
       "\n",
       "         country  selfMade gender  \n",
       "0  United States      True      M  \n",
       "1  United States      True      M  \n",
       "2         France     False      M  \n",
       "3  United States      True      M  \n",
       "4  United States      True      M  "
      ]
     },
     "execution_count": 2,
     "metadata": {},
     "output_type": "execute_result"
    }
   ],
   "source": [
    "# 2022 csv into dataframe\n",
    "df_2022 = pd.read_csv(\"Resources/labeled_cleaned_billionaire.csv\")\n",
    "df_2022.head()"
   ]
  },
  {
   "cell_type": "code",
   "execution_count": 3,
   "id": "e782f829",
   "metadata": {},
   "outputs": [
    {
     "data": {
      "text/html": [
       "<div>\n",
       "<style scoped>\n",
       "    .dataframe tbody tr th:only-of-type {\n",
       "        vertical-align: middle;\n",
       "    }\n",
       "\n",
       "    .dataframe tbody tr th {\n",
       "        vertical-align: top;\n",
       "    }\n",
       "\n",
       "    .dataframe thead th {\n",
       "        text-align: right;\n",
       "    }\n",
       "</style>\n",
       "<table border=\"1\" class=\"dataframe\">\n",
       "  <thead>\n",
       "    <tr style=\"text-align: right;\">\n",
       "      <th></th>\n",
       "      <th>rank</th>\n",
       "      <th>personName</th>\n",
       "      <th>age</th>\n",
       "      <th>finalWorth</th>\n",
       "      <th>category</th>\n",
       "      <th>country</th>\n",
       "      <th>gender</th>\n",
       "    </tr>\n",
       "  </thead>\n",
       "  <tbody>\n",
       "    <tr>\n",
       "      <th>0</th>\n",
       "      <td>1</td>\n",
       "      <td>Jeff Bezos</td>\n",
       "      <td>54.0</td>\n",
       "      <td>112000</td>\n",
       "      <td>Technology</td>\n",
       "      <td>United States</td>\n",
       "      <td>M</td>\n",
       "    </tr>\n",
       "    <tr>\n",
       "      <th>1</th>\n",
       "      <td>2</td>\n",
       "      <td>Bill Gates</td>\n",
       "      <td>62.0</td>\n",
       "      <td>90000</td>\n",
       "      <td>Technology</td>\n",
       "      <td>United States</td>\n",
       "      <td>M</td>\n",
       "    </tr>\n",
       "    <tr>\n",
       "      <th>2</th>\n",
       "      <td>3</td>\n",
       "      <td>Warren Buffett</td>\n",
       "      <td>87.0</td>\n",
       "      <td>84000</td>\n",
       "      <td>Finance &amp; Investments</td>\n",
       "      <td>United States</td>\n",
       "      <td>M</td>\n",
       "    </tr>\n",
       "    <tr>\n",
       "      <th>3</th>\n",
       "      <td>4</td>\n",
       "      <td>Bernard Arnault</td>\n",
       "      <td>69.0</td>\n",
       "      <td>72000</td>\n",
       "      <td>Fashion &amp; Retail</td>\n",
       "      <td>France</td>\n",
       "      <td>M</td>\n",
       "    </tr>\n",
       "    <tr>\n",
       "      <th>4</th>\n",
       "      <td>5</td>\n",
       "      <td>Mark Zuckerberg</td>\n",
       "      <td>33.0</td>\n",
       "      <td>71000</td>\n",
       "      <td>Technology</td>\n",
       "      <td>United States</td>\n",
       "      <td>M</td>\n",
       "    </tr>\n",
       "  </tbody>\n",
       "</table>\n",
       "</div>"
      ],
      "text/plain": [
       "   rank       personName   age  finalWorth               category  \\\n",
       "0     1       Jeff Bezos  54.0      112000             Technology   \n",
       "1     2       Bill Gates  62.0       90000             Technology   \n",
       "2     3   Warren Buffett  87.0       84000  Finance & Investments   \n",
       "3     4  Bernard Arnault  69.0       72000       Fashion & Retail   \n",
       "4     5  Mark Zuckerberg  33.0       71000             Technology   \n",
       "\n",
       "         country gender  \n",
       "0  United States      M  \n",
       "1  United States      M  \n",
       "2  United States      M  \n",
       "3         France      M  \n",
       "4  United States      M  "
      ]
     },
     "execution_count": 3,
     "metadata": {},
     "output_type": "execute_result"
    }
   ],
   "source": [
    "# 2018 csv into dataframe\n",
    "df_2018 = pd.read_csv(\"Resources/labeled_cleaned_2018_billionaire.csv\")\n",
    "df_2018.head()"
   ]
  },
  {
   "cell_type": "code",
   "execution_count": 4,
   "id": "ef48cf37",
   "metadata": {},
   "outputs": [
    {
     "data": {
      "text/plain": [
       "rank            int64\n",
       "personName     object\n",
       "age           float64\n",
       "finalWorth      int64\n",
       "category       object\n",
       "country        object\n",
       "selfMade         bool\n",
       "gender         object\n",
       "dtype: object"
      ]
     },
     "execution_count": 4,
     "metadata": {},
     "output_type": "execute_result"
    }
   ],
   "source": [
    "df_2022.dtypes"
   ]
  },
  {
   "cell_type": "code",
   "execution_count": 5,
   "id": "c36f433c",
   "metadata": {},
   "outputs": [
    {
     "data": {
      "text/plain": [
       "rank            int64\n",
       "personName     object\n",
       "age           float64\n",
       "finalWorth      int64\n",
       "category       object\n",
       "country        object\n",
       "gender         object\n",
       "dtype: object"
      ]
     },
     "execution_count": 5,
     "metadata": {},
     "output_type": "execute_result"
    }
   ],
   "source": [
    "df_2018.dtypes"
   ]
  },
  {
   "cell_type": "code",
   "execution_count": 6,
   "id": "c001561c",
   "metadata": {},
   "outputs": [
    {
     "data": {
      "text/html": [
       "<div>\n",
       "<style scoped>\n",
       "    .dataframe tbody tr th:only-of-type {\n",
       "        vertical-align: middle;\n",
       "    }\n",
       "\n",
       "    .dataframe tbody tr th {\n",
       "        vertical-align: top;\n",
       "    }\n",
       "\n",
       "    .dataframe thead th {\n",
       "        text-align: right;\n",
       "    }\n",
       "</style>\n",
       "<table border=\"1\" class=\"dataframe\">\n",
       "  <thead>\n",
       "    <tr style=\"text-align: right;\">\n",
       "      <th></th>\n",
       "      <th>rank</th>\n",
       "      <th>personName</th>\n",
       "      <th>age</th>\n",
       "      <th>finalWorth</th>\n",
       "      <th>category</th>\n",
       "      <th>country</th>\n",
       "      <th>selfMade</th>\n",
       "      <th>gender</th>\n",
       "    </tr>\n",
       "  </thead>\n",
       "  <tbody>\n",
       "    <tr>\n",
       "      <th>0</th>\n",
       "      <td>1</td>\n",
       "      <td>Elon Musk</td>\n",
       "      <td>50</td>\n",
       "      <td>219000</td>\n",
       "      <td>Automotive</td>\n",
       "      <td>United States</td>\n",
       "      <td>True</td>\n",
       "      <td>M</td>\n",
       "    </tr>\n",
       "    <tr>\n",
       "      <th>1</th>\n",
       "      <td>2</td>\n",
       "      <td>Jeff Bezos</td>\n",
       "      <td>58</td>\n",
       "      <td>171000</td>\n",
       "      <td>Technology</td>\n",
       "      <td>United States</td>\n",
       "      <td>True</td>\n",
       "      <td>M</td>\n",
       "    </tr>\n",
       "    <tr>\n",
       "      <th>2</th>\n",
       "      <td>3</td>\n",
       "      <td>Bernard Arnault &amp; family</td>\n",
       "      <td>73</td>\n",
       "      <td>158000</td>\n",
       "      <td>Fashion &amp; Retail</td>\n",
       "      <td>France</td>\n",
       "      <td>False</td>\n",
       "      <td>M</td>\n",
       "    </tr>\n",
       "    <tr>\n",
       "      <th>3</th>\n",
       "      <td>4</td>\n",
       "      <td>Bill Gates</td>\n",
       "      <td>66</td>\n",
       "      <td>129000</td>\n",
       "      <td>Technology</td>\n",
       "      <td>United States</td>\n",
       "      <td>True</td>\n",
       "      <td>M</td>\n",
       "    </tr>\n",
       "    <tr>\n",
       "      <th>4</th>\n",
       "      <td>5</td>\n",
       "      <td>Warren Buffett</td>\n",
       "      <td>91</td>\n",
       "      <td>118000</td>\n",
       "      <td>Finance &amp; Investments</td>\n",
       "      <td>United States</td>\n",
       "      <td>True</td>\n",
       "      <td>M</td>\n",
       "    </tr>\n",
       "    <tr>\n",
       "      <th>...</th>\n",
       "      <td>...</td>\n",
       "      <td>...</td>\n",
       "      <td>...</td>\n",
       "      <td>...</td>\n",
       "      <td>...</td>\n",
       "      <td>...</td>\n",
       "      <td>...</td>\n",
       "      <td>...</td>\n",
       "    </tr>\n",
       "    <tr>\n",
       "      <th>2571</th>\n",
       "      <td>2578</td>\n",
       "      <td>Zhang Yuqiang</td>\n",
       "      <td>66</td>\n",
       "      <td>1000</td>\n",
       "      <td>Manufacturing</td>\n",
       "      <td>China</td>\n",
       "      <td>True</td>\n",
       "      <td>M</td>\n",
       "    </tr>\n",
       "    <tr>\n",
       "      <th>2572</th>\n",
       "      <td>2578</td>\n",
       "      <td>Zhou Ruxin</td>\n",
       "      <td>59</td>\n",
       "      <td>1000</td>\n",
       "      <td>Technology</td>\n",
       "      <td>China</td>\n",
       "      <td>True</td>\n",
       "      <td>M</td>\n",
       "    </tr>\n",
       "    <tr>\n",
       "      <th>2573</th>\n",
       "      <td>2578</td>\n",
       "      <td>Wen Zhou &amp; family</td>\n",
       "      <td>57</td>\n",
       "      <td>1000</td>\n",
       "      <td>Manufacturing</td>\n",
       "      <td>China</td>\n",
       "      <td>True</td>\n",
       "      <td>M</td>\n",
       "    </tr>\n",
       "    <tr>\n",
       "      <th>2574</th>\n",
       "      <td>2578</td>\n",
       "      <td>Zhou Yifeng &amp; family</td>\n",
       "      <td>43</td>\n",
       "      <td>1000</td>\n",
       "      <td>Energy</td>\n",
       "      <td>China</td>\n",
       "      <td>True</td>\n",
       "      <td>F</td>\n",
       "    </tr>\n",
       "    <tr>\n",
       "      <th>2575</th>\n",
       "      <td>2578</td>\n",
       "      <td>Zhuang Kuilong &amp; family</td>\n",
       "      <td>59</td>\n",
       "      <td>1000</td>\n",
       "      <td>Manufacturing</td>\n",
       "      <td>China</td>\n",
       "      <td>True</td>\n",
       "      <td>M</td>\n",
       "    </tr>\n",
       "  </tbody>\n",
       "</table>\n",
       "<p>2576 rows × 8 columns</p>\n",
       "</div>"
      ],
      "text/plain": [
       "      rank                personName  age  finalWorth               category  \\\n",
       "0        1                 Elon Musk   50      219000             Automotive   \n",
       "1        2                Jeff Bezos   58      171000             Technology   \n",
       "2        3  Bernard Arnault & family   73      158000       Fashion & Retail   \n",
       "3        4                Bill Gates   66      129000             Technology   \n",
       "4        5            Warren Buffett   91      118000  Finance & Investments   \n",
       "...    ...                       ...  ...         ...                    ...   \n",
       "2571  2578             Zhang Yuqiang   66        1000          Manufacturing   \n",
       "2572  2578                Zhou Ruxin   59        1000             Technology   \n",
       "2573  2578         Wen Zhou & family   57        1000          Manufacturing   \n",
       "2574  2578      Zhou Yifeng & family   43        1000                 Energy   \n",
       "2575  2578   Zhuang Kuilong & family   59        1000          Manufacturing   \n",
       "\n",
       "            country  selfMade gender  \n",
       "0     United States      True      M  \n",
       "1     United States      True      M  \n",
       "2            France     False      M  \n",
       "3     United States      True      M  \n",
       "4     United States      True      M  \n",
       "...             ...       ...    ...  \n",
       "2571          China      True      M  \n",
       "2572          China      True      M  \n",
       "2573          China      True      M  \n",
       "2574          China      True      F  \n",
       "2575          China      True      M  \n",
       "\n",
       "[2576 rows x 8 columns]"
      ]
     },
     "execution_count": 6,
     "metadata": {},
     "output_type": "execute_result"
    }
   ],
   "source": [
    "# Convert age from float dtype to int\n",
    "df_2022['age'] = df_2022['age'].astype(int)\n",
    "df_2022"
   ]
  },
  {
   "cell_type": "code",
   "execution_count": 7,
   "id": "0120c212",
   "metadata": {},
   "outputs": [
    {
     "data": {
      "text/html": [
       "<div>\n",
       "<style scoped>\n",
       "    .dataframe tbody tr th:only-of-type {\n",
       "        vertical-align: middle;\n",
       "    }\n",
       "\n",
       "    .dataframe tbody tr th {\n",
       "        vertical-align: top;\n",
       "    }\n",
       "\n",
       "    .dataframe thead th {\n",
       "        text-align: right;\n",
       "    }\n",
       "</style>\n",
       "<table border=\"1\" class=\"dataframe\">\n",
       "  <thead>\n",
       "    <tr style=\"text-align: right;\">\n",
       "      <th></th>\n",
       "      <th>rank</th>\n",
       "      <th>personName</th>\n",
       "      <th>age</th>\n",
       "      <th>finalWorth</th>\n",
       "      <th>category</th>\n",
       "      <th>country</th>\n",
       "      <th>gender</th>\n",
       "    </tr>\n",
       "  </thead>\n",
       "  <tbody>\n",
       "    <tr>\n",
       "      <th>0</th>\n",
       "      <td>1</td>\n",
       "      <td>Jeff Bezos</td>\n",
       "      <td>54</td>\n",
       "      <td>112000</td>\n",
       "      <td>Technology</td>\n",
       "      <td>United States</td>\n",
       "      <td>M</td>\n",
       "    </tr>\n",
       "    <tr>\n",
       "      <th>1</th>\n",
       "      <td>2</td>\n",
       "      <td>Bill Gates</td>\n",
       "      <td>62</td>\n",
       "      <td>90000</td>\n",
       "      <td>Technology</td>\n",
       "      <td>United States</td>\n",
       "      <td>M</td>\n",
       "    </tr>\n",
       "    <tr>\n",
       "      <th>2</th>\n",
       "      <td>3</td>\n",
       "      <td>Warren Buffett</td>\n",
       "      <td>87</td>\n",
       "      <td>84000</td>\n",
       "      <td>Finance &amp; Investments</td>\n",
       "      <td>United States</td>\n",
       "      <td>M</td>\n",
       "    </tr>\n",
       "    <tr>\n",
       "      <th>3</th>\n",
       "      <td>4</td>\n",
       "      <td>Bernard Arnault</td>\n",
       "      <td>69</td>\n",
       "      <td>72000</td>\n",
       "      <td>Fashion &amp; Retail</td>\n",
       "      <td>France</td>\n",
       "      <td>M</td>\n",
       "    </tr>\n",
       "    <tr>\n",
       "      <th>4</th>\n",
       "      <td>5</td>\n",
       "      <td>Mark Zuckerberg</td>\n",
       "      <td>33</td>\n",
       "      <td>71000</td>\n",
       "      <td>Technology</td>\n",
       "      <td>United States</td>\n",
       "      <td>M</td>\n",
       "    </tr>\n",
       "    <tr>\n",
       "      <th>...</th>\n",
       "      <td>...</td>\n",
       "      <td>...</td>\n",
       "      <td>...</td>\n",
       "      <td>...</td>\n",
       "      <td>...</td>\n",
       "      <td>...</td>\n",
       "      <td>...</td>\n",
       "    </tr>\n",
       "    <tr>\n",
       "      <th>2130</th>\n",
       "      <td>2124</td>\n",
       "      <td>Zhao Xiaoqiang</td>\n",
       "      <td>50</td>\n",
       "      <td>1000</td>\n",
       "      <td>Fashion &amp; Retail</td>\n",
       "      <td>China</td>\n",
       "      <td>M</td>\n",
       "    </tr>\n",
       "    <tr>\n",
       "      <th>2131</th>\n",
       "      <td>2124</td>\n",
       "      <td>Zhou Liangzhang</td>\n",
       "      <td>55</td>\n",
       "      <td>1000</td>\n",
       "      <td>Manufacturing</td>\n",
       "      <td>China</td>\n",
       "      <td>M</td>\n",
       "    </tr>\n",
       "    <tr>\n",
       "      <th>2132</th>\n",
       "      <td>2124</td>\n",
       "      <td>Zhu Xingming</td>\n",
       "      <td>51</td>\n",
       "      <td>1000</td>\n",
       "      <td>Manufacturing</td>\n",
       "      <td>China</td>\n",
       "      <td>M</td>\n",
       "    </tr>\n",
       "    <tr>\n",
       "      <th>2133</th>\n",
       "      <td>2124</td>\n",
       "      <td>Zhuo Jun</td>\n",
       "      <td>52</td>\n",
       "      <td>1000</td>\n",
       "      <td>Manufacturing</td>\n",
       "      <td>Hong Kong</td>\n",
       "      <td>F</td>\n",
       "    </tr>\n",
       "    <tr>\n",
       "      <th>2134</th>\n",
       "      <td>2124</td>\n",
       "      <td>Olgun Zorlu</td>\n",
       "      <td>54</td>\n",
       "      <td>1000</td>\n",
       "      <td>Diversified</td>\n",
       "      <td>Turkey</td>\n",
       "      <td>M</td>\n",
       "    </tr>\n",
       "  </tbody>\n",
       "</table>\n",
       "<p>2135 rows × 7 columns</p>\n",
       "</div>"
      ],
      "text/plain": [
       "      rank       personName  age  finalWorth               category  \\\n",
       "0        1       Jeff Bezos   54      112000             Technology   \n",
       "1        2       Bill Gates   62       90000             Technology   \n",
       "2        3   Warren Buffett   87       84000  Finance & Investments   \n",
       "3        4  Bernard Arnault   69       72000       Fashion & Retail   \n",
       "4        5  Mark Zuckerberg   33       71000             Technology   \n",
       "...    ...              ...  ...         ...                    ...   \n",
       "2130  2124   Zhao Xiaoqiang   50        1000       Fashion & Retail   \n",
       "2131  2124  Zhou Liangzhang   55        1000          Manufacturing   \n",
       "2132  2124     Zhu Xingming   51        1000          Manufacturing   \n",
       "2133  2124         Zhuo Jun   52        1000          Manufacturing   \n",
       "2134  2124      Olgun Zorlu   54        1000            Diversified   \n",
       "\n",
       "            country gender  \n",
       "0     United States      M  \n",
       "1     United States      M  \n",
       "2     United States      M  \n",
       "3            France      M  \n",
       "4     United States      M  \n",
       "...             ...    ...  \n",
       "2130          China      M  \n",
       "2131          China      M  \n",
       "2132          China      M  \n",
       "2133      Hong Kong      F  \n",
       "2134         Turkey      M  \n",
       "\n",
       "[2135 rows x 7 columns]"
      ]
     },
     "execution_count": 7,
     "metadata": {},
     "output_type": "execute_result"
    }
   ],
   "source": [
    "# Convert age from float dtype to int\n",
    "df_2018['age'] = df_2018['age'].astype(int)\n",
    "df_2018"
   ]
  },
  {
   "cell_type": "code",
   "execution_count": 8,
   "id": "03fd3c4f",
   "metadata": {},
   "outputs": [
    {
     "data": {
      "text/plain": [
       "rank           int64\n",
       "personName    object\n",
       "age            int32\n",
       "finalWorth     int64\n",
       "category      object\n",
       "country       object\n",
       "selfMade        bool\n",
       "gender        object\n",
       "dtype: object"
      ]
     },
     "execution_count": 8,
     "metadata": {},
     "output_type": "execute_result"
    }
   ],
   "source": [
    "df_2022.dtypes"
   ]
  },
  {
   "cell_type": "code",
   "execution_count": 9,
   "id": "315e70e7",
   "metadata": {},
   "outputs": [
    {
     "data": {
      "text/plain": [
       "rank           int64\n",
       "personName    object\n",
       "age            int32\n",
       "finalWorth     int64\n",
       "category      object\n",
       "country       object\n",
       "gender        object\n",
       "dtype: object"
      ]
     },
     "execution_count": 9,
     "metadata": {},
     "output_type": "execute_result"
    }
   ],
   "source": [
    "df_2018.dtypes"
   ]
  },
  {
   "cell_type": "code",
   "execution_count": 10,
   "id": "143a9802",
   "metadata": {},
   "outputs": [
    {
     "data": {
      "text/plain": [
       "2"
      ]
     },
     "execution_count": 10,
     "metadata": {},
     "output_type": "execute_result"
    }
   ],
   "source": [
    "#find sum duplicated personName values in df_2022\n",
    "df_2022.personName.duplicated().sum()"
   ]
  },
  {
   "cell_type": "code",
   "execution_count": 11,
   "id": "7117ac02",
   "metadata": {},
   "outputs": [
    {
     "data": {
      "text/plain": [
       "2"
      ]
     },
     "execution_count": 11,
     "metadata": {},
     "output_type": "execute_result"
    }
   ],
   "source": [
    "#find sum duplicated personName values in df_2018\n",
    "df_2018.personName.duplicated().sum()"
   ]
  },
  {
   "cell_type": "code",
   "execution_count": 12,
   "id": "f01887f9",
   "metadata": {},
   "outputs": [
    {
     "data": {
      "text/html": [
       "<div>\n",
       "<style scoped>\n",
       "    .dataframe tbody tr th:only-of-type {\n",
       "        vertical-align: middle;\n",
       "    }\n",
       "\n",
       "    .dataframe tbody tr th {\n",
       "        vertical-align: top;\n",
       "    }\n",
       "\n",
       "    .dataframe thead th {\n",
       "        text-align: right;\n",
       "    }\n",
       "</style>\n",
       "<table border=\"1\" class=\"dataframe\">\n",
       "  <thead>\n",
       "    <tr style=\"text-align: right;\">\n",
       "      <th></th>\n",
       "      <th>rank</th>\n",
       "      <th>personName</th>\n",
       "      <th>age</th>\n",
       "      <th>finalWorth</th>\n",
       "      <th>category</th>\n",
       "      <th>country</th>\n",
       "      <th>selfMade</th>\n",
       "      <th>gender</th>\n",
       "    </tr>\n",
       "  </thead>\n",
       "  <tbody>\n",
       "    <tr>\n",
       "      <th>1147</th>\n",
       "      <td>1163</td>\n",
       "      <td>Li Li</td>\n",
       "      <td>56</td>\n",
       "      <td>2700</td>\n",
       "      <td>Healthcare</td>\n",
       "      <td>China</td>\n",
       "      <td>True</td>\n",
       "      <td>M</td>\n",
       "    </tr>\n",
       "    <tr>\n",
       "      <th>2060</th>\n",
       "      <td>2076</td>\n",
       "      <td>Li Li</td>\n",
       "      <td>58</td>\n",
       "      <td>1400</td>\n",
       "      <td>Healthcare</td>\n",
       "      <td>China</td>\n",
       "      <td>True</td>\n",
       "      <td>M</td>\n",
       "    </tr>\n",
       "    <tr>\n",
       "      <th>535</th>\n",
       "      <td>536</td>\n",
       "      <td>Wang Yanqing &amp; family</td>\n",
       "      <td>55</td>\n",
       "      <td>5100</td>\n",
       "      <td>Manufacturing</td>\n",
       "      <td>China</td>\n",
       "      <td>True</td>\n",
       "      <td>M</td>\n",
       "    </tr>\n",
       "    <tr>\n",
       "      <th>1739</th>\n",
       "      <td>1729</td>\n",
       "      <td>Wang Yanqing &amp; family</td>\n",
       "      <td>75</td>\n",
       "      <td>1700</td>\n",
       "      <td>Manufacturing</td>\n",
       "      <td>China</td>\n",
       "      <td>False</td>\n",
       "      <td>F</td>\n",
       "    </tr>\n",
       "  </tbody>\n",
       "</table>\n",
       "</div>"
      ],
      "text/plain": [
       "      rank             personName  age  finalWorth       category country  \\\n",
       "1147  1163                  Li Li   56        2700     Healthcare   China   \n",
       "2060  2076                  Li Li   58        1400     Healthcare   China   \n",
       "535    536  Wang Yanqing & family   55        5100  Manufacturing   China   \n",
       "1739  1729  Wang Yanqing & family   75        1700  Manufacturing   China   \n",
       "\n",
       "      selfMade gender  \n",
       "1147      True      M  \n",
       "2060      True      M  \n",
       "535       True      M  \n",
       "1739     False      F  "
      ]
     },
     "execution_count": 12,
     "metadata": {},
     "output_type": "execute_result"
    }
   ],
   "source": [
    "# Get list of duplicate rows based on 'personName' column for df_2022\n",
    "# Using sort values\n",
    "duplicate2022 = df_2022[df_2022.personName.duplicated(keep=False)].sort_values(\"personName\")\n",
    "duplicate2022"
   ]
  },
  {
   "cell_type": "code",
   "execution_count": 13,
   "id": "bf256294",
   "metadata": {},
   "outputs": [
    {
     "data": {
      "text/html": [
       "<div>\n",
       "<style scoped>\n",
       "    .dataframe tbody tr th:only-of-type {\n",
       "        vertical-align: middle;\n",
       "    }\n",
       "\n",
       "    .dataframe tbody tr th {\n",
       "        vertical-align: top;\n",
       "    }\n",
       "\n",
       "    .dataframe thead th {\n",
       "        text-align: right;\n",
       "    }\n",
       "</style>\n",
       "<table border=\"1\" class=\"dataframe\">\n",
       "  <thead>\n",
       "    <tr style=\"text-align: right;\">\n",
       "      <th></th>\n",
       "      <th>rank</th>\n",
       "      <th>personName</th>\n",
       "      <th>age</th>\n",
       "      <th>finalWorth</th>\n",
       "      <th>category</th>\n",
       "      <th>country</th>\n",
       "      <th>gender</th>\n",
       "    </tr>\n",
       "  </thead>\n",
       "  <tbody>\n",
       "    <tr>\n",
       "      <th>347</th>\n",
       "      <td>365</td>\n",
       "      <td>Jim Davis</td>\n",
       "      <td>74</td>\n",
       "      <td>5000</td>\n",
       "      <td>Manufacturing</td>\n",
       "      <td>United States</td>\n",
       "      <td>M</td>\n",
       "    </tr>\n",
       "    <tr>\n",
       "      <th>823</th>\n",
       "      <td>859</td>\n",
       "      <td>Jim Davis</td>\n",
       "      <td>57</td>\n",
       "      <td>2000</td>\n",
       "      <td>Service</td>\n",
       "      <td>United States</td>\n",
       "      <td>M</td>\n",
       "    </tr>\n",
       "    <tr>\n",
       "      <th>449</th>\n",
       "      <td>466</td>\n",
       "      <td>Robert Miller</td>\n",
       "      <td>84</td>\n",
       "      <td>4000</td>\n",
       "      <td>Fashion &amp; Retail</td>\n",
       "      <td>United Kingdom</td>\n",
       "      <td>M</td>\n",
       "    </tr>\n",
       "    <tr>\n",
       "      <th>904</th>\n",
       "      <td>924</td>\n",
       "      <td>Robert Miller</td>\n",
       "      <td>72</td>\n",
       "      <td>2000</td>\n",
       "      <td>Technology</td>\n",
       "      <td>Canada</td>\n",
       "      <td>M</td>\n",
       "    </tr>\n",
       "  </tbody>\n",
       "</table>\n",
       "</div>"
      ],
      "text/plain": [
       "     rank     personName  age  finalWorth          category         country  \\\n",
       "347   365      Jim Davis   74        5000     Manufacturing   United States   \n",
       "823   859      Jim Davis   57        2000           Service   United States   \n",
       "449   466  Robert Miller   84        4000  Fashion & Retail  United Kingdom   \n",
       "904   924  Robert Miller   72        2000        Technology          Canada   \n",
       "\n",
       "    gender  \n",
       "347      M  \n",
       "823      M  \n",
       "449      M  \n",
       "904      M  "
      ]
     },
     "execution_count": 13,
     "metadata": {},
     "output_type": "execute_result"
    }
   ],
   "source": [
    "# Get list of duplicate rows based on 'personName' column for df_2018\n",
    "# Using sort values\n",
    "duplicate2018 = df_2018[df_2018.personName.duplicated(keep=False)].sort_values(\"personName\")\n",
    "duplicate2018"
   ]
  },
  {
   "cell_type": "code",
   "execution_count": 14,
   "id": "32f74e83",
   "metadata": {},
   "outputs": [
    {
     "data": {
      "text/plain": [
       "'Li Li'"
      ]
     },
     "execution_count": 14,
     "metadata": {},
     "output_type": "execute_result"
    }
   ],
   "source": [
    "#pull value of row 1147 personName in df_2022\n",
    "df_2022.at[1147,'personName']"
   ]
  },
  {
   "cell_type": "code",
   "execution_count": 15,
   "id": "77f77f7b",
   "metadata": {},
   "outputs": [
    {
     "data": {
      "text/plain": [
       "'Li Li (Shenzhen Hepalink Pharmaceutical)'"
      ]
     },
     "execution_count": 15,
     "metadata": {},
     "output_type": "execute_result"
    }
   ],
   "source": [
    "# update cell value with new personName\n",
    "# Row 1147 for df_2022\n",
    "\n",
    "df_2022.at[1147,'personName']= 'Li Li (Shenzhen Hepalink Pharmaceutical)'\n",
    "\n",
    "df_2022.at[1147,'personName']"
   ]
  },
  {
   "cell_type": "code",
   "execution_count": 16,
   "id": "e31922a5",
   "metadata": {},
   "outputs": [
    {
     "data": {
      "text/plain": [
       "'Li Li'"
      ]
     },
     "execution_count": 16,
     "metadata": {},
     "output_type": "execute_result"
    }
   ],
   "source": [
    "#pull value of row 2060 personName in df_2022\n",
    "df_2022.at[2060,'personName']"
   ]
  },
  {
   "cell_type": "code",
   "execution_count": 17,
   "id": "422a256d",
   "metadata": {},
   "outputs": [
    {
     "data": {
      "text/plain": [
       "'Li Li (Aier Eye Hospital Group)'"
      ]
     },
     "execution_count": 17,
     "metadata": {},
     "output_type": "execute_result"
    }
   ],
   "source": [
    "# update cell value with new personName\n",
    "# Row 1147 for df_2022\n",
    "\n",
    "df_2022.at[2060,'personName']= 'Li Li (Aier Eye Hospital Group)'\n",
    "\n",
    "df_2022.at[2060,'personName']"
   ]
  },
  {
   "cell_type": "code",
   "execution_count": 18,
   "id": "18fd9f6d",
   "metadata": {},
   "outputs": [
    {
     "data": {
      "text/plain": [
       "'Wang Yanqing & family'"
      ]
     },
     "execution_count": 18,
     "metadata": {},
     "output_type": "execute_result"
    }
   ],
   "source": [
    "#pull value of row 535 personName in df_2022\n",
    "df_2022.at[535,'personName']"
   ]
  },
  {
   "cell_type": "code",
   "execution_count": 19,
   "id": "77f3c6e2",
   "metadata": {},
   "outputs": [
    {
     "data": {
      "text/plain": [
       "'Wang Yanquing (Wuxi Lead Intelligent Equipment)'"
      ]
     },
     "execution_count": 19,
     "metadata": {},
     "output_type": "execute_result"
    }
   ],
   "source": [
    "# update cell value with new personName\n",
    "# Row 535 for df_2022\n",
    "\n",
    "df_2022.at[535,'personName']= 'Wang Yanquing (Wuxi Lead Intelligent Equipment)'\n",
    "\n",
    "df_2022.at[535,'personName']"
   ]
  },
  {
   "cell_type": "code",
   "execution_count": 20,
   "id": "bb724dd1",
   "metadata": {},
   "outputs": [
    {
     "data": {
      "text/plain": [
       "'Wang Yanqing & family'"
      ]
     },
     "execution_count": 20,
     "metadata": {},
     "output_type": "execute_result"
    }
   ],
   "source": [
    "#pull value of row 1739 personName in df_2022\n",
    "df_2022.at[1739,'personName']"
   ]
  },
  {
   "cell_type": "code",
   "execution_count": 21,
   "id": "1c8eef03",
   "metadata": {},
   "outputs": [
    {
     "data": {
      "text/plain": [
       "'Wang Yanquing (Weihai Guangwei Group)'"
      ]
     },
     "execution_count": 21,
     "metadata": {},
     "output_type": "execute_result"
    }
   ],
   "source": [
    "# update cell value with new personName\n",
    "# Row 1739 for df_2022\n",
    "\n",
    "df_2022.at[1739,'personName']= 'Wang Yanquing (Weihai Guangwei Group)'\n",
    "\n",
    "df_2022.at[1739,'personName']"
   ]
  },
  {
   "cell_type": "code",
   "execution_count": 22,
   "id": "1ba7b0e7",
   "metadata": {},
   "outputs": [
    {
     "data": {
      "text/plain": [
       "'Jim Davis'"
      ]
     },
     "execution_count": 22,
     "metadata": {},
     "output_type": "execute_result"
    }
   ],
   "source": [
    "#pull value of row 347 personName in df_2018\n",
    "df_2018.at[347,'personName']"
   ]
  },
  {
   "cell_type": "code",
   "execution_count": 23,
   "id": "fc013677",
   "metadata": {},
   "outputs": [
    {
     "data": {
      "text/plain": [
       "'Jim Davis & Family'"
      ]
     },
     "execution_count": 23,
     "metadata": {},
     "output_type": "execute_result"
    }
   ],
   "source": [
    "# update cell value with new personName\n",
    "# Row 347 for df_2018\n",
    "\n",
    "df_2018.at[347,'personName']= 'Jim Davis & Family'\n",
    "\n",
    "df_2018.at[347,'personName']"
   ]
  },
  {
   "cell_type": "code",
   "execution_count": 24,
   "id": "3d526323",
   "metadata": {},
   "outputs": [
    {
     "data": {
      "text/plain": [
       "'Jim Davis'"
      ]
     },
     "execution_count": 24,
     "metadata": {},
     "output_type": "execute_result"
    }
   ],
   "source": [
    "#pull value of row 823 personName in df_2018\n",
    "df_2018.at[823,'personName']"
   ]
  },
  {
   "cell_type": "code",
   "execution_count": 25,
   "id": "b1e0dd40",
   "metadata": {},
   "outputs": [],
   "source": [
    "# no change to personName for row 83 of df_2018"
   ]
  },
  {
   "cell_type": "code",
   "execution_count": 26,
   "id": "4e904a38",
   "metadata": {},
   "outputs": [
    {
     "data": {
      "text/plain": [
       "'Robert Miller'"
      ]
     },
     "execution_count": 26,
     "metadata": {},
     "output_type": "execute_result"
    }
   ],
   "source": [
    "#pull value of row 449 personName in df_2018\n",
    "df_2018.at[449,'personName']"
   ]
  },
  {
   "cell_type": "code",
   "execution_count": 27,
   "id": "f3f42219",
   "metadata": {},
   "outputs": [],
   "source": [
    "# no change to personName for row 449 of df_2018"
   ]
  },
  {
   "cell_type": "code",
   "execution_count": 28,
   "id": "17fe6ce1",
   "metadata": {},
   "outputs": [
    {
     "data": {
      "text/plain": [
       "'Robert Miller'"
      ]
     },
     "execution_count": 28,
     "metadata": {},
     "output_type": "execute_result"
    }
   ],
   "source": [
    "#pull value of row 904 personName in df_2018\n",
    "df_2018.at[904,'personName']"
   ]
  },
  {
   "cell_type": "code",
   "execution_count": 29,
   "id": "545b8d68",
   "metadata": {},
   "outputs": [
    {
     "data": {
      "text/plain": [
       "'Robert G. Miller'"
      ]
     },
     "execution_count": 29,
     "metadata": {},
     "output_type": "execute_result"
    }
   ],
   "source": [
    "# update cell value with new personName\n",
    "# Row 904 for df_2018\n",
    "\n",
    "df_2018.at[904,'personName']= 'Robert G. Miller'\n",
    "\n",
    "df_2018.at[904,'personName']"
   ]
  },
  {
   "cell_type": "code",
   "execution_count": 30,
   "id": "a73a10b9",
   "metadata": {},
   "outputs": [
    {
     "data": {
      "text/html": [
       "<div>\n",
       "<style scoped>\n",
       "    .dataframe tbody tr th:only-of-type {\n",
       "        vertical-align: middle;\n",
       "    }\n",
       "\n",
       "    .dataframe tbody tr th {\n",
       "        vertical-align: top;\n",
       "    }\n",
       "\n",
       "    .dataframe thead th {\n",
       "        text-align: right;\n",
       "    }\n",
       "</style>\n",
       "<table border=\"1\" class=\"dataframe\">\n",
       "  <thead>\n",
       "    <tr style=\"text-align: right;\">\n",
       "      <th></th>\n",
       "      <th>rank</th>\n",
       "      <th>personName</th>\n",
       "      <th>age</th>\n",
       "      <th>finalWorth</th>\n",
       "      <th>category</th>\n",
       "      <th>country</th>\n",
       "      <th>selfMade</th>\n",
       "      <th>gender</th>\n",
       "    </tr>\n",
       "  </thead>\n",
       "  <tbody>\n",
       "  </tbody>\n",
       "</table>\n",
       "</div>"
      ],
      "text/plain": [
       "Empty DataFrame\n",
       "Columns: [rank, personName, age, finalWorth, category, country, selfMade, gender]\n",
       "Index: []"
      ]
     },
     "execution_count": 30,
     "metadata": {},
     "output_type": "execute_result"
    }
   ],
   "source": [
    "# Get list of duplicate rows based on 'personName' column for df_2022\n",
    "# check to see if duplicates no longer exist\n",
    "duplicate2022_2 = df_2022[df_2022.personName.duplicated(keep=False)].sort_values(\"personName\")\n",
    "duplicate2022_2"
   ]
  },
  {
   "cell_type": "code",
   "execution_count": 31,
   "id": "0e89e400",
   "metadata": {},
   "outputs": [
    {
     "data": {
      "text/html": [
       "<div>\n",
       "<style scoped>\n",
       "    .dataframe tbody tr th:only-of-type {\n",
       "        vertical-align: middle;\n",
       "    }\n",
       "\n",
       "    .dataframe tbody tr th {\n",
       "        vertical-align: top;\n",
       "    }\n",
       "\n",
       "    .dataframe thead th {\n",
       "        text-align: right;\n",
       "    }\n",
       "</style>\n",
       "<table border=\"1\" class=\"dataframe\">\n",
       "  <thead>\n",
       "    <tr style=\"text-align: right;\">\n",
       "      <th></th>\n",
       "      <th>rank</th>\n",
       "      <th>personName</th>\n",
       "      <th>age</th>\n",
       "      <th>finalWorth</th>\n",
       "      <th>category</th>\n",
       "      <th>country</th>\n",
       "      <th>gender</th>\n",
       "    </tr>\n",
       "  </thead>\n",
       "  <tbody>\n",
       "  </tbody>\n",
       "</table>\n",
       "</div>"
      ],
      "text/plain": [
       "Empty DataFrame\n",
       "Columns: [rank, personName, age, finalWorth, category, country, gender]\n",
       "Index: []"
      ]
     },
     "execution_count": 31,
     "metadata": {},
     "output_type": "execute_result"
    }
   ],
   "source": [
    "# Get list of duplicate rows based on 'personName' column for df_2018\n",
    "# check to see if duplicates no longer exist\n",
    "duplicate2018_2 = df_2018[df_2018.personName.duplicated(keep=False)].sort_values(\"personName\")\n",
    "duplicate2018_2"
   ]
  },
  {
   "cell_type": "code",
   "execution_count": 32,
   "id": "555b3540",
   "metadata": {},
   "outputs": [],
   "source": [
    "#create new csv files specifically for SQL\n",
    "\n",
    "file_path = \"Resources/labeled_sql_cleaned_2022_billionaire.csv\"\n",
    "df_2022.to_csv(file_path, index=False)"
   ]
  },
  {
   "cell_type": "code",
   "execution_count": 33,
   "id": "11fbc301",
   "metadata": {},
   "outputs": [],
   "source": [
    "file_path = \"Resources/labeled_sql_cleaned_2018_billionaire.csv\"\n",
    "df_2018.to_csv(file_path, index=False)"
   ]
  },
  {
   "cell_type": "code",
   "execution_count": null,
   "id": "69bf309a",
   "metadata": {},
   "outputs": [],
   "source": []
  }
 ],
 "metadata": {
  "kernelspec": {
   "display_name": "mlenv",
   "language": "python",
   "name": "mlenv"
  },
  "language_info": {
   "codemirror_mode": {
    "name": "ipython",
    "version": 3
   },
   "file_extension": ".py",
   "mimetype": "text/x-python",
   "name": "python",
   "nbconvert_exporter": "python",
   "pygments_lexer": "ipython3",
   "version": "3.7.15"
  }
 },
 "nbformat": 4,
 "nbformat_minor": 5
}
